{
 "cells": [
  {
   "cell_type": "markdown",
   "metadata": {
    "colab_type": "text",
    "id": "view-in-github"
   },
   "source": [
    "<a href=\"https://colab.research.google.com/github/AureenBlessingsHarazie/web-scraping/blob/main/web_scraping.ipynb\" target=\"_parent\"><img src=\"https://colab.research.google.com/assets/colab-badge.svg\" alt=\"Open In Colab\"/></a>"
   ]
  },
  {
   "cell_type": "code",
   "execution_count": 3,
   "metadata": {
    "id": "S4g3oTW7-iRh"
   },
   "outputs": [],
   "source": [
    "import requests\n",
    "from bs4 import BeautifulSoup"
   ]
  },
  {
   "cell_type": "code",
   "execution_count": null,
   "metadata": {
    "id": "3u-vVR9--1R3"
   },
   "outputs": [],
   "source": []
  },
  {
   "cell_type": "code",
   "execution_count": 4,
   "metadata": {},
   "outputs": [],
   "source": [
    "url='https://www.flipkart.com/search?q=samsung&otracker=search&otracker1=search&marketplace=FLIPKART&as-show=on&as=off&p%5B%5D=facets.brand%255B%255D%3DSAMSUNG&p%5B%5D=facets.ram%255B%255D%3D4%2BGB&p%5B%5D=facets.ram%255B%255D%3D3%2BGB&p%5B%5D=facets.ram%255B%255D%3D2%2BGB&p%5B%5D=facets.ram%255B%255D%3D6%2BGB&p%5B%5D=facets.ram%255B%255D%3D8%2BGB%2Band%2BAbove'"
   ]
  },
  {
   "cell_type": "code",
   "execution_count": 8,
   "metadata": {},
   "outputs": [],
   "source": [
    "response=requests.get(url)"
   ]
  },
  {
   "cell_type": "code",
   "execution_count": 12,
   "metadata": {},
   "outputs": [
    {
     "data": {
      "text/plain": [
       "<Response [200]>"
      ]
     },
     "execution_count": 12,
     "metadata": {},
     "output_type": "execute_result"
    }
   ],
   "source": [
    "response"
   ]
  },
  {
   "cell_type": "code",
   "execution_count": 13,
   "metadata": {},
   "outputs": [],
   "source": [
    "soup=BeautifulSoup(response.content,'html.parser')"
   ]
  },
  {
   "cell_type": "code",
   "execution_count": 14,
   "metadata": {},
   "outputs": [],
   "source": [
    "#soup"
   ]
  },
  {
   "cell_type": "code",
   "execution_count": 27,
   "metadata": {},
   "outputs": [
    {
     "data": {
      "text/plain": [
       "[<div class=\"col col-7-12\"><div class=\"_4rR01T\">SAMSUNG Galaxy F23 5G (Forest Green, 128 GB)</div><div class=\"gUuXy-\"><span class=\"_1lRcqv\" id=\"productRating_LSTMOBGBKQF3QM4GHWNEXFBQE_MOBGBKQF3QM4GHWN_\"><div class=\"_3LWZlK\">4.1<img class=\"_1wB99o\" src=\"data:image/svg+xml;base64,PHN2ZyB4bWxucz0iaHR0cDovL3d3dy53My5vcmcvMjAwMC9zdmciIHdpZHRoPSIxMyIgaGVpZ2h0PSIxMiI+PHBhdGggZmlsbD0iI0ZGRiIgZD0iTTYuNSA5LjQzOWwtMy42NzQgMi4yMy45NC00LjI2LTMuMjEtMi44ODMgNC4yNTQtLjQwNEw2LjUuMTEybDEuNjkgNC4wMSA0LjI1NC40MDQtMy4yMSAyLjg4Mi45NCA0LjI2eiIvPjwvc3ZnPg==\"/></div></span><span class=\"_2_R_DZ\"><span><span>42,722 Ratings </span><span class=\"_13vcmD\">&amp;</span><span> 4,383 Reviews</span></span></span></div><div class=\"fMghEO\"><ul class=\"_1xgFaf\"><li class=\"rgWa7D\">6 GB RAM | 128 GB ROM | Expandable Upto 1 TB</li><li class=\"rgWa7D\">16.76 cm (6.6 inch) Full HD+ Display</li><li class=\"rgWa7D\">50MP + 8MP + 2MP | 8MP Front Camera</li><li class=\"rgWa7D\">5000 mAh Lithium Ion Battery</li><li class=\"rgWa7D\">Qualcomm Snapdragon 750G Processor</li><li class=\"rgWa7D\">1 Year Warranty Provided by the Manufacturer from Date of Purchase</li></ul></div></div>,\n",
       " <div class=\"col col-7-12\"><div class=\"_4rR01T\">SAMSUNG Galaxy A12 (Blue, 128 GB)</div><div class=\"gUuXy-\"><span class=\"_1lRcqv\" id=\"productRating_LSTMOBG5D9XSW82BZBGCB0CXS_MOBG5D9XSW82BZBG_\"><div class=\"_3LWZlK\">4.1<img class=\"_1wB99o\" src=\"data:image/svg+xml;base64,PHN2ZyB4bWxucz0iaHR0cDovL3d3dy53My5vcmcvMjAwMC9zdmciIHdpZHRoPSIxMyIgaGVpZ2h0PSIxMiI+PHBhdGggZmlsbD0iI0ZGRiIgZD0iTTYuNSA5LjQzOWwtMy42NzQgMi4yMy45NC00LjI2LTMuMjEtMi44ODMgNC4yNTQtLjQwNEw2LjUuMTEybDEuNjkgNC4wMSA0LjI1NC40MDQtMy4yMSAyLjg4Mi45NCA0LjI2eiIvPjwvc3ZnPg==\"/></div></span><span class=\"_2_R_DZ\"><span><span>1,156 Ratings </span><span class=\"_13vcmD\">&amp;</span><span> 89 Reviews</span></span></span></div><div class=\"fMghEO\"><ul class=\"_1xgFaf\"><li class=\"rgWa7D\">6 GB RAM | 128 GB ROM | Expandable Upto 1 TB</li><li class=\"rgWa7D\">16.51 cm (6.5 inch) HD+ Display</li><li class=\"rgWa7D\">48MP + 5MP + 2MP + 2MP | 8MP Front Camera</li><li class=\"rgWa7D\">5000 mAh Battery</li><li class=\"rgWa7D\">Exynos 850 (S5E3830) Processor</li><li class=\"rgWa7D\">1 Year Warranty Provided by the Manufacturer From Date of Purchase</li></ul></div></div>,\n",
       " <div class=\"col col-7-12\"><div class=\"_4rR01T\">SAMSUNG Galaxy F23 5G (Copper Blush, 128 GB)</div><div class=\"gUuXy-\"><span class=\"_1lRcqv\" id=\"productRating_LSTMOBGE2ZU2YBUAEVZCKFQ6T_MOBGE2ZU2YBUAEVZ_\"><div class=\"_3LWZlK\">4.1<img class=\"_1wB99o\" src=\"data:image/svg+xml;base64,PHN2ZyB4bWxucz0iaHR0cDovL3d3dy53My5vcmcvMjAwMC9zdmciIHdpZHRoPSIxMyIgaGVpZ2h0PSIxMiI+PHBhdGggZmlsbD0iI0ZGRiIgZD0iTTYuNSA5LjQzOWwtMy42NzQgMi4yMy45NC00LjI2LTMuMjEtMi44ODMgNC4yNTQtLjQwNEw2LjUuMTEybDEuNjkgNC4wMSA0LjI1NC40MDQtMy4yMSAyLjg4Mi45NCA0LjI2eiIvPjwvc3ZnPg==\"/></div></span><span class=\"_2_R_DZ\"><span><span>42,722 Ratings </span><span class=\"_13vcmD\">&amp;</span><span> 4,383 Reviews</span></span></span></div><div class=\"fMghEO\"><ul class=\"_1xgFaf\"><li class=\"rgWa7D\">6 GB RAM | 128 GB ROM | Expandable Upto 1 TB</li><li class=\"rgWa7D\">16.76 cm (6.6 inch) Full HD+ Display</li><li class=\"rgWa7D\">50MP + 8MP + 2MP | 8MP Front Camera</li><li class=\"rgWa7D\">5000 mAh Lithium Ion Battery</li><li class=\"rgWa7D\">Qualcomm Snapdragon 750G Processor</li><li class=\"rgWa7D\">1 Year Warranty Provided by the Manufacturer from Date of Purchase</li></ul></div></div>,\n",
       " <div class=\"col col-7-12\"><div class=\"_4rR01T\">SAMSUNG Galaxy F23 5G (Aqua Blue, 128 GB)</div><div class=\"gUuXy-\"><span class=\"_1lRcqv\" id=\"productRating_LSTMOBGBKQF45XPEUHATCA8X7_MOBGBKQF45XPEUHA_\"><div class=\"_3LWZlK\">4.1<img class=\"_1wB99o\" src=\"data:image/svg+xml;base64,PHN2ZyB4bWxucz0iaHR0cDovL3d3dy53My5vcmcvMjAwMC9zdmciIHdpZHRoPSIxMyIgaGVpZ2h0PSIxMiI+PHBhdGggZmlsbD0iI0ZGRiIgZD0iTTYuNSA5LjQzOWwtMy42NzQgMi4yMy45NC00LjI2LTMuMjEtMi44ODMgNC4yNTQtLjQwNEw2LjUuMTEybDEuNjkgNC4wMSA0LjI1NC40MDQtMy4yMSAyLjg4Mi45NCA0LjI2eiIvPjwvc3ZnPg==\"/></div></span><span class=\"_2_R_DZ\"><span><span>42,722 Ratings </span><span class=\"_13vcmD\">&amp;</span><span> 4,383 Reviews</span></span></span></div><div class=\"fMghEO\"><ul class=\"_1xgFaf\"><li class=\"rgWa7D\">6 GB RAM | 128 GB ROM | Expandable Upto 1 TB</li><li class=\"rgWa7D\">16.76 cm (6.6 inch) Full HD+ Display</li><li class=\"rgWa7D\">50MP + 8MP + 2MP | 8MP Front Camera</li><li class=\"rgWa7D\">5000 mAh Lithium Ion Battery</li><li class=\"rgWa7D\">Qualcomm Snapdragon 750G Processor</li><li class=\"rgWa7D\">1 Year Warranty Provided by the Manufacturer from Date of Purchase</li></ul></div></div>,\n",
       " <div class=\"col col-7-12\"><div class=\"_4rR01T\">SAMSUNG Galaxy F22 (Denim Blue, 64 GB)</div><div class=\"gUuXy-\"><span class=\"_1lRcqv\" id=\"productRating_LSTMOBG43UGBTGGB99VLZACSD_MOBG43UGBTGGB99V_\"><div class=\"_3LWZlK\">4.3<img class=\"_1wB99o\" src=\"data:image/svg+xml;base64,PHN2ZyB4bWxucz0iaHR0cDovL3d3dy53My5vcmcvMjAwMC9zdmciIHdpZHRoPSIxMyIgaGVpZ2h0PSIxMiI+PHBhdGggZmlsbD0iI0ZGRiIgZD0iTTYuNSA5LjQzOWwtMy42NzQgMi4yMy45NC00LjI2LTMuMjEtMi44ODMgNC4yNTQtLjQwNEw2LjUuMTEybDEuNjkgNC4wMSA0LjI1NC40MDQtMy4yMSAyLjg4Mi45NCA0LjI2eiIvPjwvc3ZnPg==\"/></div></span><span class=\"_2_R_DZ\"><span><span>88,217 Ratings </span><span class=\"_13vcmD\">&amp;</span><span> 8,638 Reviews</span></span></span></div><div class=\"fMghEO\"><ul class=\"_1xgFaf\"><li class=\"rgWa7D\">4 GB RAM | 64 GB ROM | Expandable Upto 1 TB</li><li class=\"rgWa7D\">16.26 cm (6.4 inch) HD+ Display</li><li class=\"rgWa7D\">48MP + 8MP + 2MP + 2MP | 13MP Front Camera</li><li class=\"rgWa7D\">6000 mAh Lithium-ion Battery</li><li class=\"rgWa7D\">MediaTek Helio G80 Processor</li><li class=\"rgWa7D\">1 Year Warranty Provided by the Manufacturer from Date of Purchase</li></ul></div></div>,\n",
       " <div class=\"col col-7-12\"><div class=\"_4rR01T\">SAMSUNG Galaxy F22 (Denim Black, 128 GB)</div><div class=\"gUuXy-\"><span class=\"_1lRcqv\" id=\"productRating_LSTMOBG43UGFGYU4K4B0FR1R0_MOBG43UGFGYU4K4B_\"><div class=\"_3LWZlK\">4.3<img class=\"_1wB99o\" src=\"data:image/svg+xml;base64,PHN2ZyB4bWxucz0iaHR0cDovL3d3dy53My5vcmcvMjAwMC9zdmciIHdpZHRoPSIxMyIgaGVpZ2h0PSIxMiI+PHBhdGggZmlsbD0iI0ZGRiIgZD0iTTYuNSA5LjQzOWwtMy42NzQgMi4yMy45NC00LjI2LTMuMjEtMi44ODMgNC4yNTQtLjQwNEw2LjUuMTEybDEuNjkgNC4wMSA0LjI1NC40MDQtMy4yMSAyLjg4Mi45NCA0LjI2eiIvPjwvc3ZnPg==\"/></div></span><span class=\"_2_R_DZ\"><span><span>55,779 Ratings </span><span class=\"_13vcmD\">&amp;</span><span> 5,293 Reviews</span></span></span></div><div class=\"fMghEO\"><ul class=\"_1xgFaf\"><li class=\"rgWa7D\">6 GB RAM | 128 GB ROM | Expandable Upto 1 TB</li><li class=\"rgWa7D\">16.26 cm (6.4 inch) HD+ Display</li><li class=\"rgWa7D\">48MP + 8MP + 2MP + 2MP | 13MP Front Camera</li><li class=\"rgWa7D\">6000 mAh Lithium-ion Battery</li><li class=\"rgWa7D\">MediaTek Helio G80 Processor</li><li class=\"rgWa7D\">1 Year Warranty Provided by the Manufacturer from Date of Purchase</li></ul></div></div>,\n",
       " <div class=\"col col-7-12\"><div class=\"_4rR01T\">SAMSUNG Galaxy F22 (Denim Black, 64 GB)</div><div class=\"gUuXy-\"><span class=\"_1lRcqv\" id=\"productRating_LSTMOBG43UGC3PYCBZFSIRYTE_MOBG43UGC3PYCBZF_\"><div class=\"_3LWZlK\">4.3<img class=\"_1wB99o\" src=\"data:image/svg+xml;base64,PHN2ZyB4bWxucz0iaHR0cDovL3d3dy53My5vcmcvMjAwMC9zdmciIHdpZHRoPSIxMyIgaGVpZ2h0PSIxMiI+PHBhdGggZmlsbD0iI0ZGRiIgZD0iTTYuNSA5LjQzOWwtMy42NzQgMi4yMy45NC00LjI2LTMuMjEtMi44ODMgNC4yNTQtLjQwNEw2LjUuMTEybDEuNjkgNC4wMSA0LjI1NC40MDQtMy4yMSAyLjg4Mi45NCA0LjI2eiIvPjwvc3ZnPg==\"/></div></span><span class=\"_2_R_DZ\"><span><span>88,217 Ratings </span><span class=\"_13vcmD\">&amp;</span><span> 8,638 Reviews</span></span></span></div><div class=\"fMghEO\"><ul class=\"_1xgFaf\"><li class=\"rgWa7D\">4 GB RAM | 64 GB ROM | Expandable Upto 1 TB</li><li class=\"rgWa7D\">16.26 cm (6.4 inch) HD+ Display</li><li class=\"rgWa7D\">48MP + 8MP + 2MP + 2MP | 13MP Front Camera</li><li class=\"rgWa7D\">6000 mAh Lithium-ion Battery</li><li class=\"rgWa7D\">MediaTek Helio G80 Processor</li><li class=\"rgWa7D\">1 Year Warranty Provided by the Manufacturer from Date of Purchase</li></ul></div></div>,\n",
       " <div class=\"col col-7-12\"><div class=\"_4rR01T\">SAMSUNG Galaxy M33 5G (Mystique Green, 128 GB)</div><div class=\"gUuXy-\"><span class=\"_1lRcqv\" id=\"productRating_LSTMOBGDC8MZMBXFZJTINORTO_MOBGDC8MZMBXFZJT_\"><div class=\"_3LWZlK\">4.2<img class=\"_1wB99o\" src=\"data:image/svg+xml;base64,PHN2ZyB4bWxucz0iaHR0cDovL3d3dy53My5vcmcvMjAwMC9zdmciIHdpZHRoPSIxMyIgaGVpZ2h0PSIxMiI+PHBhdGggZmlsbD0iI0ZGRiIgZD0iTTYuNSA5LjQzOWwtMy42NzQgMi4yMy45NC00LjI2LTMuMjEtMi44ODMgNC4yNTQtLjQwNEw2LjUuMTEybDEuNjkgNC4wMSA0LjI1NC40MDQtMy4yMSAyLjg4Mi45NCA0LjI2eiIvPjwvc3ZnPg==\"/></div></span><span class=\"_2_R_DZ\"><span><span>3,117 Ratings </span><span class=\"_13vcmD\">&amp;</span><span> 336 Reviews</span></span></span></div><div class=\"fMghEO\"><ul class=\"_1xgFaf\"><li class=\"rgWa7D\">6 GB RAM | 128 GB ROM</li><li class=\"rgWa7D\">16.74 cm (6.59 inch) Display</li><li class=\"rgWa7D\">50MP Rear Camera</li><li class=\"rgWa7D\">6000 mAh Battery</li><li class=\"rgWa7D\">12 months</li></ul></div></div>,\n",
       " <div class=\"col col-7-12\"><div class=\"_4rR01T\">SAMSUNG Galaxy A12 (Black, 128 GB)</div><div class=\"gUuXy-\"><span class=\"_1lRcqv\" id=\"productRating_LSTMOBG5D9XFFAFZYHHEB8RHW_MOBG5D9XFFAFZYHH_\"><div class=\"_3LWZlK\">4.1<img class=\"_1wB99o\" src=\"data:image/svg+xml;base64,PHN2ZyB4bWxucz0iaHR0cDovL3d3dy53My5vcmcvMjAwMC9zdmciIHdpZHRoPSIxMyIgaGVpZ2h0PSIxMiI+PHBhdGggZmlsbD0iI0ZGRiIgZD0iTTYuNSA5LjQzOWwtMy42NzQgMi4yMy45NC00LjI2LTMuMjEtMi44ODMgNC4yNTQtLjQwNEw2LjUuMTEybDEuNjkgNC4wMSA0LjI1NC40MDQtMy4yMSAyLjg4Mi45NCA0LjI2eiIvPjwvc3ZnPg==\"/></div></span><span class=\"_2_R_DZ\"><span><span>1,156 Ratings </span><span class=\"_13vcmD\">&amp;</span><span> 89 Reviews</span></span></span></div><div class=\"fMghEO\"><ul class=\"_1xgFaf\"><li class=\"rgWa7D\">6 GB RAM | 128 GB ROM | Expandable Upto 1 TB</li><li class=\"rgWa7D\">16.51 cm (6.5 inch) HD+ Display</li><li class=\"rgWa7D\">48MP + 5MP + 2MP + 2MP | 8MP Front Camera</li><li class=\"rgWa7D\">5000 mAh Battery</li><li class=\"rgWa7D\">Exynos 850 (S5E3830) Processor</li><li class=\"rgWa7D\">1 Year Warranty Provided by the Manufacturer From Date of Purchase</li></ul></div></div>,\n",
       " <div class=\"col col-7-12\"><div class=\"_4rR01T\">SAMSUNG Galaxy F22 (Denim Blue, 128 GB)</div><div class=\"gUuXy-\"><span class=\"_1lRcqv\" id=\"productRating_LSTMOBG43UGRSMJXTMH8AUDHE_MOBG43UGRSMJXTMH_\"><div class=\"_3LWZlK\">4.3<img class=\"_1wB99o\" src=\"data:image/svg+xml;base64,PHN2ZyB4bWxucz0iaHR0cDovL3d3dy53My5vcmcvMjAwMC9zdmciIHdpZHRoPSIxMyIgaGVpZ2h0PSIxMiI+PHBhdGggZmlsbD0iI0ZGRiIgZD0iTTYuNSA5LjQzOWwtMy42NzQgMi4yMy45NC00LjI2LTMuMjEtMi44ODMgNC4yNTQtLjQwNEw2LjUuMTEybDEuNjkgNC4wMSA0LjI1NC40MDQtMy4yMSAyLjg4Mi45NCA0LjI2eiIvPjwvc3ZnPg==\"/></div></span><span class=\"_2_R_DZ\"><span><span>55,779 Ratings </span><span class=\"_13vcmD\">&amp;</span><span> 5,293 Reviews</span></span></span></div><div class=\"fMghEO\"><ul class=\"_1xgFaf\"><li class=\"rgWa7D\">6 GB RAM | 128 GB ROM | Expandable Upto 1 TB</li><li class=\"rgWa7D\">16.26 cm (6.4 inch) HD+ Display</li><li class=\"rgWa7D\">48MP + 8MP + 2MP + 2MP | 13MP Front Camera</li><li class=\"rgWa7D\">6000 mAh Lithium-ion Battery</li><li class=\"rgWa7D\">MediaTek Helio G80 Processor</li><li class=\"rgWa7D\">1 Year Warranty Provided by the Manufacturer from Date of Purchase</li></ul></div></div>,\n",
       " <div class=\"col col-7-12\"><div class=\"_4rR01T\">SAMSUNG Galaxy F23 5G (Copper Blush, 128 GB)</div><div class=\"gUuXy-\"><span class=\"_1lRcqv\" id=\"productRating_LSTMOBGE2ZUJMZYRAGDCPARRL_MOBGE2ZUJMZYRAGD_\"><div class=\"_3LWZlK\">4<img class=\"_1wB99o\" src=\"data:image/svg+xml;base64,PHN2ZyB4bWxucz0iaHR0cDovL3d3dy53My5vcmcvMjAwMC9zdmciIHdpZHRoPSIxMyIgaGVpZ2h0PSIxMiI+PHBhdGggZmlsbD0iI0ZGRiIgZD0iTTYuNSA5LjQzOWwtMy42NzQgMi4yMy45NC00LjI2LTMuMjEtMi44ODMgNC4yNTQtLjQwNEw2LjUuMTEybDEuNjkgNC4wMSA0LjI1NC40MDQtMy4yMSAyLjg4Mi45NCA0LjI2eiIvPjwvc3ZnPg==\"/></div></span><span class=\"_2_R_DZ\"><span><span>8,689 Ratings </span><span class=\"_13vcmD\">&amp;</span><span> 889 Reviews</span></span></span></div><div class=\"fMghEO\"><ul class=\"_1xgFaf\"><li class=\"rgWa7D\">4 GB RAM | 128 GB ROM | Expandable Upto 1 TB</li><li class=\"rgWa7D\">16.76 cm (6.6 inch) Full HD+ Display</li><li class=\"rgWa7D\">50MP + 8MP + 2MP | 8MP Front Camera</li><li class=\"rgWa7D\">5000 mAh Lithium Ion Battery</li><li class=\"rgWa7D\">Qualcomm Snapdragon 750G Processor</li><li class=\"rgWa7D\">1 Year Warranty Provided by the Manufacturer from Date of Purchase</li></ul></div></div>,\n",
       " <div class=\"col col-7-12\"><div class=\"_4rR01T\">SAMSUNG Galaxy F23 5G (Forest Green, 128 GB)</div><div class=\"gUuXy-\"><span class=\"_1lRcqv\" id=\"productRating_LSTMOBGBKQFGJH8GH7MAKQUSX_MOBGBKQFGJH8GH7M_\"><div class=\"_3LWZlK\">4<img class=\"_1wB99o\" src=\"data:image/svg+xml;base64,PHN2ZyB4bWxucz0iaHR0cDovL3d3dy53My5vcmcvMjAwMC9zdmciIHdpZHRoPSIxMyIgaGVpZ2h0PSIxMiI+PHBhdGggZmlsbD0iI0ZGRiIgZD0iTTYuNSA5LjQzOWwtMy42NzQgMi4yMy45NC00LjI2LTMuMjEtMi44ODMgNC4yNTQtLjQwNEw2LjUuMTEybDEuNjkgNC4wMSA0LjI1NC40MDQtMy4yMSAyLjg4Mi45NCA0LjI2eiIvPjwvc3ZnPg==\"/></div></span><span class=\"_2_R_DZ\"><span><span>8,689 Ratings </span><span class=\"_13vcmD\">&amp;</span><span> 889 Reviews</span></span></span></div><div class=\"fMghEO\"><ul class=\"_1xgFaf\"><li class=\"rgWa7D\">4 GB RAM | 128 GB ROM | Expandable Upto 1 TB</li><li class=\"rgWa7D\">16.76 cm (6.6 inch) Full HD+ Display</li><li class=\"rgWa7D\">50MP + 8MP + 2MP | 8MP Front Camera</li><li class=\"rgWa7D\">5000 mAh Lithium Ion Battery</li><li class=\"rgWa7D\">Qualcomm Snapdragon 750G Processor</li><li class=\"rgWa7D\">1 Year Warranty Provided by the Manufacturer from Date of Purchase</li></ul></div></div>,\n",
       " <div class=\"col col-7-12\"><div class=\"_4rR01T\">SAMSUNG Galaxy F13 (Waterfall Blue, 64 GB)</div><div class=\"gUuXy-\"><span class=\"_1lRcqv\" id=\"productRating_LSTMOBGENJWBPFYJSFT1ZY7B0_MOBGENJWBPFYJSFT_\"><div class=\"_3LWZlK\">4.4<img class=\"_1wB99o\" src=\"data:image/svg+xml;base64,PHN2ZyB4bWxucz0iaHR0cDovL3d3dy53My5vcmcvMjAwMC9zdmciIHdpZHRoPSIxMyIgaGVpZ2h0PSIxMiI+PHBhdGggZmlsbD0iI0ZGRiIgZD0iTTYuNSA5LjQzOWwtMy42NzQgMi4yMy45NC00LjI2LTMuMjEtMi44ODMgNC4yNTQtLjQwNEw2LjUuMTEybDEuNjkgNC4wMSA0LjI1NC40MDQtMy4yMSAyLjg4Mi45NCA0LjI2eiIvPjwvc3ZnPg==\"/></div></span><span class=\"_2_R_DZ\"><span><span>16,781 Ratings </span><span class=\"_13vcmD\">&amp;</span><span> 915 Reviews</span></span></span></div><div class=\"fMghEO\"><ul class=\"_1xgFaf\"><li class=\"rgWa7D\">4 GB RAM | 64 GB ROM | Expandable Upto 1 TB</li><li class=\"rgWa7D\">16.76 cm (6.6 inch) Full HD+ Display</li><li class=\"rgWa7D\">50MP + 5MP + 2MP | 8MP Front Camera</li><li class=\"rgWa7D\">6000 mAh Lithium Ion Battery</li><li class=\"rgWa7D\">Exynos 850 Processor</li><li class=\"rgWa7D\">1 Year Warranty Provided By the Manufacturer from Date of Purchase</li></ul></div></div>,\n",
       " <div class=\"col col-7-12\"><div class=\"_4rR01T\">SAMSUNG Galaxy F13 (Sunrise Copper, 64 GB)</div><div class=\"gUuXy-\"><span class=\"_1lRcqv\" id=\"productRating_LSTMOBGENJWWRYSFC5PYXUAZH_MOBGENJWWRYSFC5P_\"><div class=\"_3LWZlK\">4.4<img class=\"_1wB99o\" src=\"data:image/svg+xml;base64,PHN2ZyB4bWxucz0iaHR0cDovL3d3dy53My5vcmcvMjAwMC9zdmciIHdpZHRoPSIxMyIgaGVpZ2h0PSIxMiI+PHBhdGggZmlsbD0iI0ZGRiIgZD0iTTYuNSA5LjQzOWwtMy42NzQgMi4yMy45NC00LjI2LTMuMjEtMi44ODMgNC4yNTQtLjQwNEw2LjUuMTEybDEuNjkgNC4wMSA0LjI1NC40MDQtMy4yMSAyLjg4Mi45NCA0LjI2eiIvPjwvc3ZnPg==\"/></div></span><span class=\"_2_R_DZ\"><span><span>16,781 Ratings </span><span class=\"_13vcmD\">&amp;</span><span> 915 Reviews</span></span></span></div><div class=\"fMghEO\"><ul class=\"_1xgFaf\"><li class=\"rgWa7D\">4 GB RAM | 64 GB ROM | Expandable Upto 1 TB</li><li class=\"rgWa7D\">16.76 cm (6.6 inch) Full HD+ Display</li><li class=\"rgWa7D\">50MP + 5MP + 2MP | 8MP Front Camera</li><li class=\"rgWa7D\">6000 mAh Lithium Ion Battery</li><li class=\"rgWa7D\">Exynos 850 Processor</li><li class=\"rgWa7D\">1 Year Warranty Provided By the Manufacturer from Date of Purchase</li></ul></div></div>,\n",
       " <div class=\"col col-7-12\"><div class=\"_4rR01T\">SAMSUNG Galaxy F23 5G (Aqua Blue, 128 GB)</div><div class=\"gUuXy-\"><span class=\"_1lRcqv\" id=\"productRating_LSTMOBGBKQFHKZHTHKJIHLFJF_MOBGBKQFHKZHTHKJ_\"><div class=\"_3LWZlK\">4<img class=\"_1wB99o\" src=\"data:image/svg+xml;base64,PHN2ZyB4bWxucz0iaHR0cDovL3d3dy53My5vcmcvMjAwMC9zdmciIHdpZHRoPSIxMyIgaGVpZ2h0PSIxMiI+PHBhdGggZmlsbD0iI0ZGRiIgZD0iTTYuNSA5LjQzOWwtMy42NzQgMi4yMy45NC00LjI2LTMuMjEtMi44ODMgNC4yNTQtLjQwNEw2LjUuMTEybDEuNjkgNC4wMSA0LjI1NC40MDQtMy4yMSAyLjg4Mi45NCA0LjI2eiIvPjwvc3ZnPg==\"/></div></span><span class=\"_2_R_DZ\"><span><span>8,689 Ratings </span><span class=\"_13vcmD\">&amp;</span><span> 889 Reviews</span></span></span></div><div class=\"fMghEO\"><ul class=\"_1xgFaf\"><li class=\"rgWa7D\">4 GB RAM | 128 GB ROM | Expandable Upto 1 TB</li><li class=\"rgWa7D\">16.76 cm (6.6 inch) Full HD+ Display</li><li class=\"rgWa7D\">50MP + 8MP + 2MP | 8MP Front Camera</li><li class=\"rgWa7D\">5000 mAh Lithium Ion Battery</li><li class=\"rgWa7D\">Qualcomm Snapdragon 750G Processor</li><li class=\"rgWa7D\">1 Year Warranty Provided by the Manufacturer from Date of Purchase</li></ul></div></div>,\n",
       " <div class=\"col col-7-12\"><div class=\"_4rR01T\">SAMSUNG Galaxy M52 5G (Icy Blue, 128 GB)</div><div class=\"gUuXy-\"><span class=\"_1lRcqv\" id=\"productRating_LSTMOBG7H8ZMGBH4Q8F5O378A_MOBG7H8ZMGBH4Q8F_\"><div class=\"_3LWZlK\">4.2<img class=\"_1wB99o\" src=\"data:image/svg+xml;base64,PHN2ZyB4bWxucz0iaHR0cDovL3d3dy53My5vcmcvMjAwMC9zdmciIHdpZHRoPSIxMyIgaGVpZ2h0PSIxMiI+PHBhdGggZmlsbD0iI0ZGRiIgZD0iTTYuNSA5LjQzOWwtMy42NzQgMi4yMy45NC00LjI2LTMuMjEtMi44ODMgNC4yNTQtLjQwNEw2LjUuMTEybDEuNjkgNC4wMSA0LjI1NC40MDQtMy4yMSAyLjg4Mi45NCA0LjI2eiIvPjwvc3ZnPg==\"/></div></span><span class=\"_2_R_DZ\"><span><span>1,599 Ratings </span><span class=\"_13vcmD\">&amp;</span><span> 167 Reviews</span></span></span></div><div class=\"fMghEO\"><ul class=\"_1xgFaf\"><li class=\"rgWa7D\">6 GB RAM | 128 GB ROM | Expandable Upto 1 TB</li><li class=\"rgWa7D\">17.02 cm (6.7 inch) Full HD+ Display</li><li class=\"rgWa7D\">64MP + 12MP + 5MP | 32MP Front Camera</li><li class=\"rgWa7D\">5000 mAh Battery</li><li class=\"rgWa7D\">Qualcomm SM7325 Snapdragon Processor</li><li class=\"rgWa7D\">1 Year Warranty Provided by the Manufacturer from Date of Purchase</li></ul></div></div>,\n",
       " <div class=\"col col-7-12\"><div class=\"_4rR01T\">SAMSUNG Galaxy M33 5G (Deep Ocean Blue, 128 GB)</div><div class=\"gUuXy-\"><span class=\"_1lRcqv\" id=\"productRating_LSTMOBGDC886NT7GAXR2Y51BV_MOBGDC886NT7GAXR_\"><div class=\"_3LWZlK\">4.2<img class=\"_1wB99o\" src=\"data:image/svg+xml;base64,PHN2ZyB4bWxucz0iaHR0cDovL3d3dy53My5vcmcvMjAwMC9zdmciIHdpZHRoPSIxMyIgaGVpZ2h0PSIxMiI+PHBhdGggZmlsbD0iI0ZGRiIgZD0iTTYuNSA5LjQzOWwtMy42NzQgMi4yMy45NC00LjI2LTMuMjEtMi44ODMgNC4yNTQtLjQwNEw2LjUuMTEybDEuNjkgNC4wMSA0LjI1NC40MDQtMy4yMSAyLjg4Mi45NCA0LjI2eiIvPjwvc3ZnPg==\"/></div></span><span class=\"_2_R_DZ\"><span><span>3,117 Ratings </span><span class=\"_13vcmD\">&amp;</span><span> 336 Reviews</span></span></span></div><div class=\"fMghEO\"><ul class=\"_1xgFaf\"><li class=\"rgWa7D\">6 GB RAM | 128 GB ROM</li><li class=\"rgWa7D\">16.76 cm (6.6 inch) Display</li><li class=\"rgWa7D\">50MP Rear Camera</li><li class=\"rgWa7D\">6000 mAh Battery</li><li class=\"rgWa7D\">12 months</li></ul></div></div>,\n",
       " <div class=\"col col-7-12\"><div class=\"_4rR01T\">SAMSUNG Galaxy F13 (Nightsky Green, 64 GB)</div><div class=\"gUuXy-\"><span class=\"_1lRcqv\" id=\"productRating_LSTMOBGENJWF4KJTPENAUQVSZ_MOBGENJWF4KJTPEN_\"><div class=\"_3LWZlK\">4.4<img class=\"_1wB99o\" src=\"data:image/svg+xml;base64,PHN2ZyB4bWxucz0iaHR0cDovL3d3dy53My5vcmcvMjAwMC9zdmciIHdpZHRoPSIxMyIgaGVpZ2h0PSIxMiI+PHBhdGggZmlsbD0iI0ZGRiIgZD0iTTYuNSA5LjQzOWwtMy42NzQgMi4yMy45NC00LjI2LTMuMjEtMi44ODMgNC4yNTQtLjQwNEw2LjUuMTEybDEuNjkgNC4wMSA0LjI1NC40MDQtMy4yMSAyLjg4Mi45NCA0LjI2eiIvPjwvc3ZnPg==\"/></div></span><span class=\"_2_R_DZ\"><span><span>16,781 Ratings </span><span class=\"_13vcmD\">&amp;</span><span> 915 Reviews</span></span></span></div><div class=\"fMghEO\"><ul class=\"_1xgFaf\"><li class=\"rgWa7D\">4 GB RAM | 64 GB ROM | Expandable Upto 1 TB</li><li class=\"rgWa7D\">16.76 cm (6.6 inch) Full HD+ Display</li><li class=\"rgWa7D\">50MP + 5MP + 2MP | 8MP Front Camera</li><li class=\"rgWa7D\">6000 mAh Lithium Ion Battery</li><li class=\"rgWa7D\">Exynos 850 Processor</li><li class=\"rgWa7D\">1 Year Warranty Provided By the Manufacturer from Date of Purchase</li></ul></div></div>,\n",
       " <div class=\"col col-7-12\"><div class=\"_4rR01T\">SAMSUNG GALAXY M13 (Aqua Green, 64 GB)</div><div class=\"gUuXy-\"><span class=\"_1lRcqv\" id=\"productRating_LSTMOBGGHC2FJUSTVJHRH9QIT_MOBGGHC2FJUSTVJH_\"><div class=\"_3LWZlK\">4.3<img class=\"_1wB99o\" src=\"data:image/svg+xml;base64,PHN2ZyB4bWxucz0iaHR0cDovL3d3dy53My5vcmcvMjAwMC9zdmciIHdpZHRoPSIxMyIgaGVpZ2h0PSIxMiI+PHBhdGggZmlsbD0iI0ZGRiIgZD0iTTYuNSA5LjQzOWwtMy42NzQgMi4yMy45NC00LjI2LTMuMjEtMi44ODMgNC4yNTQtLjQwNEw2LjUuMTEybDEuNjkgNC4wMSA0LjI1NC40MDQtMy4yMSAyLjg4Mi45NCA0LjI2eiIvPjwvc3ZnPg==\"/></div></span><span class=\"_2_R_DZ\"><span><span>121 Ratings </span><span class=\"_13vcmD\">&amp;</span><span> 9 Reviews</span></span></span></div><div class=\"fMghEO\"><ul class=\"_1xgFaf\"><li class=\"rgWa7D\">4 GB RAM | 64 GB ROM</li><li class=\"rgWa7D\">16.76 cm (6.6 inch) Display</li><li class=\"rgWa7D\">50MP Rear Camera</li><li class=\"rgWa7D\">6000 mAh Battery</li><li class=\"rgWa7D\">12 MONTHS</li></ul></div></div>,\n",
       " <div class=\"col col-7-12\"><div class=\"_4rR01T\">SAMSUNG Galaxy F12 (Sky Blue, 64 GB)</div><div class=\"gUuXy-\"><span class=\"_1lRcqv\" id=\"productRating_LSTMOBGFG79BVGDHGWVGF2CRI_MOBGFG79BVGDHGWV_\"><div class=\"_3LWZlK\">4.3<img class=\"_1wB99o\" src=\"data:image/svg+xml;base64,PHN2ZyB4bWxucz0iaHR0cDovL3d3dy53My5vcmcvMjAwMC9zdmciIHdpZHRoPSIxMyIgaGVpZ2h0PSIxMiI+PHBhdGggZmlsbD0iI0ZGRiIgZD0iTTYuNSA5LjQzOWwtMy42NzQgMi4yMy45NC00LjI2LTMuMjEtMi44ODMgNC4yNTQtLjQwNEw2LjUuMTEybDEuNjkgNC4wMSA0LjI1NC40MDQtMy4yMSAyLjg4Mi45NCA0LjI2eiIvPjwvc3ZnPg==\"/></div></span><span class=\"_2_R_DZ\"><span><span>2,90,938 Ratings </span><span class=\"_13vcmD\">&amp;</span><span> 23,223 Reviews</span></span></span></div><div class=\"fMghEO\"><ul class=\"_1xgFaf\"><li class=\"rgWa7D\">4 GB RAM | 64 GB ROM | Expandable Upto 512 GB</li><li class=\"rgWa7D\">16.55 cm (6.515 inch) HD+ Display</li><li class=\"rgWa7D\">48MP + 5MP + 2MP + 2MP | 8MP Front Camera</li><li class=\"rgWa7D\">6000 mAh Lithium-ion Battery</li><li class=\"rgWa7D\">Exynos 850 Processor</li><li class=\"rgWa7D\">1 Year Warranty Provided by the Manufacturer from Date of Purchase</li></ul></div></div>,\n",
       " <div class=\"col col-7-12\"><div class=\"_4rR01T\">SAMSUNG Galaxy M12 (Black, 64 GB)</div><div class=\"gUuXy-\"><span class=\"_1lRcqv\" id=\"productRating_LSTMOBGFG8H4A32HTKJT6BZVV_MOBGFG8H4A32HTKJ_\"><div class=\"_3LWZlK\">4.2<img class=\"_1wB99o\" src=\"data:image/svg+xml;base64,PHN2ZyB4bWxucz0iaHR0cDovL3d3dy53My5vcmcvMjAwMC9zdmciIHdpZHRoPSIxMyIgaGVpZ2h0PSIxMiI+PHBhdGggZmlsbD0iI0ZGRiIgZD0iTTYuNSA5LjQzOWwtMy42NzQgMi4yMy45NC00LjI2LTMuMjEtMi44ODMgNC4yNTQtLjQwNEw2LjUuMTEybDEuNjkgNC4wMSA0LjI1NC40MDQtMy4yMSAyLjg4Mi45NCA0LjI2eiIvPjwvc3ZnPg==\"/></div></span><span class=\"_2_R_DZ\"><span><span>15,797 Ratings </span><span class=\"_13vcmD\">&amp;</span><span> 1,182 Reviews</span></span></span></div><div class=\"fMghEO\"><ul class=\"_1xgFaf\"><li class=\"rgWa7D\">4 GB RAM | 64 GB ROM</li><li class=\"rgWa7D\">16.51 cm (6.5 inch) Display</li><li class=\"rgWa7D\">48MP Rear Camera</li><li class=\"rgWa7D\">6000 mAh Battery</li><li class=\"rgWa7D\">1 Year</li></ul></div></div>,\n",
       " <div class=\"col col-7-12\"><div class=\"_4rR01T\">SAMSUNG Galaxy F13 (Nightsky Green, 128 GB)</div><div class=\"gUuXy-\"><span class=\"_1lRcqv\" id=\"productRating_LSTMOBGENJW6YHHQDYUA8FLZC_MOBGENJW6YHHQDYU_\"><div class=\"_3LWZlK\">4.4<img class=\"_1wB99o\" src=\"data:image/svg+xml;base64,PHN2ZyB4bWxucz0iaHR0cDovL3d3dy53My5vcmcvMjAwMC9zdmciIHdpZHRoPSIxMyIgaGVpZ2h0PSIxMiI+PHBhdGggZmlsbD0iI0ZGRiIgZD0iTTYuNSA5LjQzOWwtMy42NzQgMi4yMy45NC00LjI2LTMuMjEtMi44ODMgNC4yNTQtLjQwNEw2LjUuMTEybDEuNjkgNC4wMSA0LjI1NC40MDQtMy4yMSAyLjg4Mi45NCA0LjI2eiIvPjwvc3ZnPg==\"/></div></span><span class=\"_2_R_DZ\"><span><span>16,781 Ratings </span><span class=\"_13vcmD\">&amp;</span><span> 915 Reviews</span></span></span></div><div class=\"fMghEO\"><ul class=\"_1xgFaf\"><li class=\"rgWa7D\">4 GB RAM | 128 GB ROM | Expandable Upto 1 TB</li><li class=\"rgWa7D\">16.76 cm (6.6 inch) Full HD+ Display</li><li class=\"rgWa7D\">50MP + 5MP + 2MP | 8MP Front Camera</li><li class=\"rgWa7D\">6000 mAh Lithium Ion Battery</li><li class=\"rgWa7D\">Exynos 850 Processor</li><li class=\"rgWa7D\">1 Year Warranty Provided By the Manufacturer from Date of Purchase</li></ul></div></div>,\n",
       " <div class=\"col col-7-12\"><div class=\"_4rR01T\">SAMSUNG Galaxy F12 (Sky Blue, 128 GB)</div><div class=\"gUuXy-\"><span class=\"_1lRcqv\" id=\"productRating_LSTMOBGFG79BPTJWHKSOYSLM0_MOBGFG79BPTJWHKS_\"><div class=\"_3LWZlK\">4.3<img class=\"_1wB99o\" src=\"data:image/svg+xml;base64,PHN2ZyB4bWxucz0iaHR0cDovL3d3dy53My5vcmcvMjAwMC9zdmciIHdpZHRoPSIxMyIgaGVpZ2h0PSIxMiI+PHBhdGggZmlsbD0iI0ZGRiIgZD0iTTYuNSA5LjQzOWwtMy42NzQgMi4yMy45NC00LjI2LTMuMjEtMi44ODMgNC4yNTQtLjQwNEw2LjUuMTEybDEuNjkgNC4wMSA0LjI1NC40MDQtMy4yMSAyLjg4Mi45NCA0LjI2eiIvPjwvc3ZnPg==\"/></div></span><span class=\"_2_R_DZ\"><span><span>2,90,938 Ratings </span><span class=\"_13vcmD\">&amp;</span><span> 23,223 Reviews</span></span></span></div><div class=\"fMghEO\"><ul class=\"_1xgFaf\"><li class=\"rgWa7D\">4 GB RAM | 128 GB ROM | Expandable Upto 512 GB</li><li class=\"rgWa7D\">16.55 cm (6.515 inch) HD+ Display</li><li class=\"rgWa7D\">48MP + 5MP + 2MP + 2MP | 8MP Front Camera</li><li class=\"rgWa7D\">6000 mAh Lithium-ion Battery</li><li class=\"rgWa7D\">Exynos 850 Processor</li><li class=\"rgWa7D\">1 Year Warranty Provided by the Manufacturer from Date of Purchase</li></ul></div></div>,\n",
       " <div class=\"col col-7-12\"><div class=\"_4rR01T\">SAMSUNG GALAXY M13 (Midnight Blue, 64 GB)</div><div class=\"gUuXy-\"><span class=\"_1lRcqv\" id=\"productRating_LSTMOBGGHC2BA4ZN3S5DSEWGD_MOBGGHC2BA4ZN3S5_\"><div class=\"_3LWZlK\">4.3<img class=\"_1wB99o\" src=\"data:image/svg+xml;base64,PHN2ZyB4bWxucz0iaHR0cDovL3d3dy53My5vcmcvMjAwMC9zdmciIHdpZHRoPSIxMyIgaGVpZ2h0PSIxMiI+PHBhdGggZmlsbD0iI0ZGRiIgZD0iTTYuNSA5LjQzOWwtMy42NzQgMi4yMy45NC00LjI2LTMuMjEtMi44ODMgNC4yNTQtLjQwNEw2LjUuMTEybDEuNjkgNC4wMSA0LjI1NC40MDQtMy4yMSAyLjg4Mi45NCA0LjI2eiIvPjwvc3ZnPg==\"/></div></span><span class=\"_2_R_DZ\"><span><span>121 Ratings </span><span class=\"_13vcmD\">&amp;</span><span> 9 Reviews</span></span></span></div><div class=\"fMghEO\"><ul class=\"_1xgFaf\"><li class=\"rgWa7D\">4 GB RAM | 64 GB ROM</li><li class=\"rgWa7D\">16.76 cm (6.6 inch) Display</li><li class=\"rgWa7D\">50MP Rear Camera</li><li class=\"rgWa7D\">6000 mAh Battery</li><li class=\"rgWa7D\">12 MONTHS</li></ul></div></div>]"
      ]
     },
     "execution_count": 27,
     "metadata": {},
     "output_type": "execute_result"
    }
   ],
   "source": [
    "soup.find_all('div',{'class':'col col-7-12'})"
   ]
  },
  {
   "cell_type": "code",
   "execution_count": 25,
   "metadata": {},
   "outputs": [],
   "source": [
    "divs=soup.find_all('div',{'class':'col col-7-12'})"
   ]
  },
  {
   "cell_type": "code",
   "execution_count": 28,
   "metadata": {},
   "outputs": [
    {
     "data": {
      "text/plain": [
       "'SAMSUNG Galaxy F23 5G (Forest Green, 128 GB)'"
      ]
     },
     "execution_count": 28,
     "metadata": {},
     "output_type": "execute_result"
    }
   ],
   "source": [
    "divs[0].find ('div',{'class':'_4rR01T'}).text"
   ]
  },
  {
   "cell_type": "code",
   "execution_count": 42,
   "metadata": {},
   "outputs": [],
   "source": [
    "phones=[]\n",
    "for div in divs:\n",
    "    phones.append(div.find('div',{'class':'_4rR01T'}).text)"
   ]
  },
  {
   "cell_type": "code",
   "execution_count": 36,
   "metadata": {},
   "outputs": [],
   "source": [
    "# phones"
   ]
  },
  {
   "cell_type": "code",
   "execution_count": 55,
   "metadata": {},
   "outputs": [
    {
     "data": {
      "text/plain": [
       "'6'"
      ]
     },
     "execution_count": 55,
     "metadata": {},
     "output_type": "execute_result"
    }
   ],
   "source": [
    "divs[0].find ('li',{'class':'rgWa7D'}).text.split('|')[0].split()[0]"
   ]
  },
  {
   "cell_type": "code",
   "execution_count": 65,
   "metadata": {},
   "outputs": [
    {
     "data": {
      "text/plain": [
       "'128'"
      ]
     },
     "execution_count": 65,
     "metadata": {},
     "output_type": "execute_result"
    }
   ],
   "source": [
    "divs[0].find ('li',{'class':'rgWa7D'}).text.split('|')[1].split()[0]"
   ]
  },
  {
   "cell_type": "code",
   "execution_count": 71,
   "metadata": {},
   "outputs": [],
   "source": [
    "ram=[]\n",
    "rom=[]\n",
    "phones=[]\n",
    "for div in divs:\n",
    "    ram.append(int(div.find ('li',{'class':'rgWa7D'}).text.split('|')[0].split()[0]))\n",
    "    rom.append(int(div.find ('li',{'class':'rgWa7D'}).text.split('|')[1].split()[0]))\n",
    "    phones.append(div.find('div',{'class':'_4rR01T'}).text)    "
   ]
  },
  {
   "cell_type": "code",
   "execution_count": 72,
   "metadata": {},
   "outputs": [],
   "source": [
    "div_price=soup.find_all('div',class_ ='_30jeq3 _1_WHN1' )"
   ]
  },
  {
   "cell_type": "code",
   "execution_count": 83,
   "metadata": {},
   "outputs": [
    {
     "data": {
      "text/plain": [
       "13499"
      ]
     },
     "execution_count": 83,
     "metadata": {},
     "output_type": "execute_result"
    }
   ],
   "source": [
    " int(div_price[0].text.replace('₹','').replace(',',''))"
   ]
  },
  {
   "cell_type": "code",
   "execution_count": 88,
   "metadata": {},
   "outputs": [],
   "source": [
    "\n",
    "prices=[]\n",
    "for price in div_price:\n",
    "    prices.append(int(price.text.replace('₹','').replace(',','')))"
   ]
  },
  {
   "cell_type": "code",
   "execution_count": 94,
   "metadata": {},
   "outputs": [
    {
     "data": {
      "text/plain": [
       "[13499,\n",
       " 13499,\n",
       " 13499,\n",
       " 13499,\n",
       " 11999,\n",
       " 13999,\n",
       " 11999,\n",
       " 17790,\n",
       " 13499,\n",
       " 13999,\n",
       " 12499,\n",
       " 12499,\n",
       " 11999,\n",
       " 11999,\n",
       " 12499,\n",
       " 22499,\n",
       " 18385,\n",
       " 11999,\n",
       " 11995,\n",
       " 11499,\n",
       " 11745,\n",
       " 12999,\n",
       " 12499,\n",
       " 12999]"
      ]
     },
     "execution_count": 94,
     "metadata": {},
     "output_type": "execute_result"
    }
   ],
   "source": [
    "prices"
   ]
  },
  {
   "cell_type": "code",
   "execution_count": 95,
   "metadata": {},
   "outputs": [],
   "source": [
    "import pandas as pd"
   ]
  },
  {
   "cell_type": "code",
   "execution_count": 97,
   "metadata": {},
   "outputs": [],
   "source": [
    "phone_dict={\n",
    "    'phones':[],\n",
    "    'ram':[],\n",
    "    'rom':[],\n",
    "    'prices':[]\n",
    "    \n",
    "\n",
    "    }\n",
    "def repository(phones,ram,rom,price):\n",
    "    phone_dict['phones'].extend(phones)\n",
    "    phone_dict['ram'].extend(ram)\n",
    "    phone_dict['rom'].extend(rom)\n",
    "    phone_dict['prices'].extend(prices)\n",
    "    \n",
    "    return pd.DataFrame(phone_dict)"
   ]
  },
  {
   "cell_type": "code",
   "execution_count": 98,
   "metadata": {},
   "outputs": [],
   "source": [
    "df=repository(phones,ram,rom,prices)"
   ]
  },
  {
   "cell_type": "code",
   "execution_count": 99,
   "metadata": {},
   "outputs": [
    {
     "data": {
      "text/html": [
       "<div>\n",
       "<style scoped>\n",
       "    .dataframe tbody tr th:only-of-type {\n",
       "        vertical-align: middle;\n",
       "    }\n",
       "\n",
       "    .dataframe tbody tr th {\n",
       "        vertical-align: top;\n",
       "    }\n",
       "\n",
       "    .dataframe thead th {\n",
       "        text-align: right;\n",
       "    }\n",
       "</style>\n",
       "<table border=\"1\" class=\"dataframe\">\n",
       "  <thead>\n",
       "    <tr style=\"text-align: right;\">\n",
       "      <th></th>\n",
       "      <th>phones</th>\n",
       "      <th>ram</th>\n",
       "      <th>rom</th>\n",
       "      <th>prices</th>\n",
       "    </tr>\n",
       "  </thead>\n",
       "  <tbody>\n",
       "    <tr>\n",
       "      <th>0</th>\n",
       "      <td>SAMSUNG Galaxy F23 5G (Forest Green, 128 GB)</td>\n",
       "      <td>6</td>\n",
       "      <td>128</td>\n",
       "      <td>13499</td>\n",
       "    </tr>\n",
       "    <tr>\n",
       "      <th>1</th>\n",
       "      <td>SAMSUNG Galaxy A12 (Blue, 128 GB)</td>\n",
       "      <td>6</td>\n",
       "      <td>128</td>\n",
       "      <td>13499</td>\n",
       "    </tr>\n",
       "    <tr>\n",
       "      <th>2</th>\n",
       "      <td>SAMSUNG Galaxy F23 5G (Copper Blush, 128 GB)</td>\n",
       "      <td>6</td>\n",
       "      <td>128</td>\n",
       "      <td>13499</td>\n",
       "    </tr>\n",
       "    <tr>\n",
       "      <th>3</th>\n",
       "      <td>SAMSUNG Galaxy F23 5G (Aqua Blue, 128 GB)</td>\n",
       "      <td>6</td>\n",
       "      <td>128</td>\n",
       "      <td>13499</td>\n",
       "    </tr>\n",
       "    <tr>\n",
       "      <th>4</th>\n",
       "      <td>SAMSUNG Galaxy F22 (Denim Blue, 64 GB)</td>\n",
       "      <td>4</td>\n",
       "      <td>64</td>\n",
       "      <td>11999</td>\n",
       "    </tr>\n",
       "    <tr>\n",
       "      <th>5</th>\n",
       "      <td>SAMSUNG Galaxy F22 (Denim Black, 128 GB)</td>\n",
       "      <td>6</td>\n",
       "      <td>128</td>\n",
       "      <td>13999</td>\n",
       "    </tr>\n",
       "    <tr>\n",
       "      <th>6</th>\n",
       "      <td>SAMSUNG Galaxy F22 (Denim Black, 64 GB)</td>\n",
       "      <td>4</td>\n",
       "      <td>64</td>\n",
       "      <td>11999</td>\n",
       "    </tr>\n",
       "    <tr>\n",
       "      <th>7</th>\n",
       "      <td>SAMSUNG Galaxy M33 5G (Mystique Green, 128 GB)</td>\n",
       "      <td>6</td>\n",
       "      <td>128</td>\n",
       "      <td>17790</td>\n",
       "    </tr>\n",
       "    <tr>\n",
       "      <th>8</th>\n",
       "      <td>SAMSUNG Galaxy A12 (Black, 128 GB)</td>\n",
       "      <td>6</td>\n",
       "      <td>128</td>\n",
       "      <td>13499</td>\n",
       "    </tr>\n",
       "    <tr>\n",
       "      <th>9</th>\n",
       "      <td>SAMSUNG Galaxy F22 (Denim Blue, 128 GB)</td>\n",
       "      <td>6</td>\n",
       "      <td>128</td>\n",
       "      <td>13999</td>\n",
       "    </tr>\n",
       "    <tr>\n",
       "      <th>10</th>\n",
       "      <td>SAMSUNG Galaxy F23 5G (Copper Blush, 128 GB)</td>\n",
       "      <td>4</td>\n",
       "      <td>128</td>\n",
       "      <td>12499</td>\n",
       "    </tr>\n",
       "    <tr>\n",
       "      <th>11</th>\n",
       "      <td>SAMSUNG Galaxy F23 5G (Forest Green, 128 GB)</td>\n",
       "      <td>4</td>\n",
       "      <td>128</td>\n",
       "      <td>12499</td>\n",
       "    </tr>\n",
       "    <tr>\n",
       "      <th>12</th>\n",
       "      <td>SAMSUNG Galaxy F13 (Waterfall Blue, 64 GB)</td>\n",
       "      <td>4</td>\n",
       "      <td>64</td>\n",
       "      <td>11999</td>\n",
       "    </tr>\n",
       "    <tr>\n",
       "      <th>13</th>\n",
       "      <td>SAMSUNG Galaxy F13 (Sunrise Copper, 64 GB)</td>\n",
       "      <td>4</td>\n",
       "      <td>64</td>\n",
       "      <td>11999</td>\n",
       "    </tr>\n",
       "    <tr>\n",
       "      <th>14</th>\n",
       "      <td>SAMSUNG Galaxy F23 5G (Aqua Blue, 128 GB)</td>\n",
       "      <td>4</td>\n",
       "      <td>128</td>\n",
       "      <td>12499</td>\n",
       "    </tr>\n",
       "    <tr>\n",
       "      <th>15</th>\n",
       "      <td>SAMSUNG Galaxy M52 5G (Icy Blue, 128 GB)</td>\n",
       "      <td>6</td>\n",
       "      <td>128</td>\n",
       "      <td>22499</td>\n",
       "    </tr>\n",
       "    <tr>\n",
       "      <th>16</th>\n",
       "      <td>SAMSUNG Galaxy M33 5G (Deep Ocean Blue, 128 GB)</td>\n",
       "      <td>6</td>\n",
       "      <td>128</td>\n",
       "      <td>18385</td>\n",
       "    </tr>\n",
       "    <tr>\n",
       "      <th>17</th>\n",
       "      <td>SAMSUNG Galaxy F13 (Nightsky Green, 64 GB)</td>\n",
       "      <td>4</td>\n",
       "      <td>64</td>\n",
       "      <td>11999</td>\n",
       "    </tr>\n",
       "    <tr>\n",
       "      <th>18</th>\n",
       "      <td>SAMSUNG GALAXY M13 (Aqua Green, 64 GB)</td>\n",
       "      <td>4</td>\n",
       "      <td>64</td>\n",
       "      <td>11995</td>\n",
       "    </tr>\n",
       "    <tr>\n",
       "      <th>19</th>\n",
       "      <td>SAMSUNG Galaxy F12 (Sky Blue, 64 GB)</td>\n",
       "      <td>4</td>\n",
       "      <td>64</td>\n",
       "      <td>11499</td>\n",
       "    </tr>\n",
       "    <tr>\n",
       "      <th>20</th>\n",
       "      <td>SAMSUNG Galaxy M12 (Black, 64 GB)</td>\n",
       "      <td>4</td>\n",
       "      <td>64</td>\n",
       "      <td>11745</td>\n",
       "    </tr>\n",
       "    <tr>\n",
       "      <th>21</th>\n",
       "      <td>SAMSUNG Galaxy F13 (Nightsky Green, 128 GB)</td>\n",
       "      <td>4</td>\n",
       "      <td>128</td>\n",
       "      <td>12999</td>\n",
       "    </tr>\n",
       "    <tr>\n",
       "      <th>22</th>\n",
       "      <td>SAMSUNG Galaxy F12 (Sky Blue, 128 GB)</td>\n",
       "      <td>4</td>\n",
       "      <td>128</td>\n",
       "      <td>12499</td>\n",
       "    </tr>\n",
       "    <tr>\n",
       "      <th>23</th>\n",
       "      <td>SAMSUNG GALAXY M13 (Midnight Blue, 64 GB)</td>\n",
       "      <td>4</td>\n",
       "      <td>64</td>\n",
       "      <td>12999</td>\n",
       "    </tr>\n",
       "  </tbody>\n",
       "</table>\n",
       "</div>"
      ],
      "text/plain": [
       "                                             phones  ram  rom  prices\n",
       "0      SAMSUNG Galaxy F23 5G (Forest Green, 128 GB)    6  128   13499\n",
       "1                 SAMSUNG Galaxy A12 (Blue, 128 GB)    6  128   13499\n",
       "2      SAMSUNG Galaxy F23 5G (Copper Blush, 128 GB)    6  128   13499\n",
       "3         SAMSUNG Galaxy F23 5G (Aqua Blue, 128 GB)    6  128   13499\n",
       "4            SAMSUNG Galaxy F22 (Denim Blue, 64 GB)    4   64   11999\n",
       "5          SAMSUNG Galaxy F22 (Denim Black, 128 GB)    6  128   13999\n",
       "6           SAMSUNG Galaxy F22 (Denim Black, 64 GB)    4   64   11999\n",
       "7    SAMSUNG Galaxy M33 5G (Mystique Green, 128 GB)    6  128   17790\n",
       "8                SAMSUNG Galaxy A12 (Black, 128 GB)    6  128   13499\n",
       "9           SAMSUNG Galaxy F22 (Denim Blue, 128 GB)    6  128   13999\n",
       "10     SAMSUNG Galaxy F23 5G (Copper Blush, 128 GB)    4  128   12499\n",
       "11     SAMSUNG Galaxy F23 5G (Forest Green, 128 GB)    4  128   12499\n",
       "12       SAMSUNG Galaxy F13 (Waterfall Blue, 64 GB)    4   64   11999\n",
       "13       SAMSUNG Galaxy F13 (Sunrise Copper, 64 GB)    4   64   11999\n",
       "14        SAMSUNG Galaxy F23 5G (Aqua Blue, 128 GB)    4  128   12499\n",
       "15         SAMSUNG Galaxy M52 5G (Icy Blue, 128 GB)    6  128   22499\n",
       "16  SAMSUNG Galaxy M33 5G (Deep Ocean Blue, 128 GB)    6  128   18385\n",
       "17       SAMSUNG Galaxy F13 (Nightsky Green, 64 GB)    4   64   11999\n",
       "18           SAMSUNG GALAXY M13 (Aqua Green, 64 GB)    4   64   11995\n",
       "19             SAMSUNG Galaxy F12 (Sky Blue, 64 GB)    4   64   11499\n",
       "20                SAMSUNG Galaxy M12 (Black, 64 GB)    4   64   11745\n",
       "21      SAMSUNG Galaxy F13 (Nightsky Green, 128 GB)    4  128   12999\n",
       "22            SAMSUNG Galaxy F12 (Sky Blue, 128 GB)    4  128   12499\n",
       "23        SAMSUNG GALAXY M13 (Midnight Blue, 64 GB)    4   64   12999"
      ]
     },
     "execution_count": 99,
     "metadata": {},
     "output_type": "execute_result"
    }
   ],
   "source": [
    "df"
   ]
  },
  {
   "cell_type": "code",
   "execution_count": 101,
   "metadata": {},
   "outputs": [],
   "source": [
    "df.to_csv('phones.csv',index=False)"
   ]
  },
  {
   "cell_type": "code",
   "execution_count": 102,
   "metadata": {},
   "outputs": [],
   "source": [
    "import seaborn as sns\n",
    "import matplotlib.pyplot as plt"
   ]
  },
  {
   "cell_type": "code",
   "execution_count": 103,
   "metadata": {},
   "outputs": [
    {
     "data": {
      "text/html": [
       "<div>\n",
       "<style scoped>\n",
       "    .dataframe tbody tr th:only-of-type {\n",
       "        vertical-align: middle;\n",
       "    }\n",
       "\n",
       "    .dataframe tbody tr th {\n",
       "        vertical-align: top;\n",
       "    }\n",
       "\n",
       "    .dataframe thead th {\n",
       "        text-align: right;\n",
       "    }\n",
       "</style>\n",
       "<table border=\"1\" class=\"dataframe\">\n",
       "  <thead>\n",
       "    <tr style=\"text-align: right;\">\n",
       "      <th></th>\n",
       "      <th>ram</th>\n",
       "      <th>rom</th>\n",
       "      <th>prices</th>\n",
       "    </tr>\n",
       "  </thead>\n",
       "  <tbody>\n",
       "    <tr>\n",
       "      <th>ram</th>\n",
       "      <td>1.000000</td>\n",
       "      <td>0.654654</td>\n",
       "      <td>0.630862</td>\n",
       "    </tr>\n",
       "    <tr>\n",
       "      <th>rom</th>\n",
       "      <td>0.654654</td>\n",
       "      <td>1.000000</td>\n",
       "      <td>0.476672</td>\n",
       "    </tr>\n",
       "    <tr>\n",
       "      <th>prices</th>\n",
       "      <td>0.630862</td>\n",
       "      <td>0.476672</td>\n",
       "      <td>1.000000</td>\n",
       "    </tr>\n",
       "  </tbody>\n",
       "</table>\n",
       "</div>"
      ],
      "text/plain": [
       "             ram       rom    prices\n",
       "ram     1.000000  0.654654  0.630862\n",
       "rom     0.654654  1.000000  0.476672\n",
       "prices  0.630862  0.476672  1.000000"
      ]
     },
     "execution_count": 103,
     "metadata": {},
     "output_type": "execute_result"
    }
   ],
   "source": [
    "df.corr()"
   ]
  },
  {
   "cell_type": "code",
   "execution_count": 104,
   "metadata": {},
   "outputs": [
    {
     "data": {
      "text/html": [
       "<div>\n",
       "<style scoped>\n",
       "    .dataframe tbody tr th:only-of-type {\n",
       "        vertical-align: middle;\n",
       "    }\n",
       "\n",
       "    .dataframe tbody tr th {\n",
       "        vertical-align: top;\n",
       "    }\n",
       "\n",
       "    .dataframe thead th {\n",
       "        text-align: right;\n",
       "    }\n",
       "</style>\n",
       "<table border=\"1\" class=\"dataframe\">\n",
       "  <thead>\n",
       "    <tr style=\"text-align: right;\">\n",
       "      <th></th>\n",
       "      <th>ram</th>\n",
       "      <th>rom</th>\n",
       "      <th>prices</th>\n",
       "    </tr>\n",
       "  </thead>\n",
       "  <tbody>\n",
       "    <tr>\n",
       "      <th>count</th>\n",
       "      <td>24.000000</td>\n",
       "      <td>24.000000</td>\n",
       "      <td>24.000000</td>\n",
       "    </tr>\n",
       "    <tr>\n",
       "      <th>mean</th>\n",
       "      <td>4.833333</td>\n",
       "      <td>104.000000</td>\n",
       "      <td>13558.125000</td>\n",
       "    </tr>\n",
       "    <tr>\n",
       "      <th>std</th>\n",
       "      <td>1.007220</td>\n",
       "      <td>31.650263</td>\n",
       "      <td>2543.451187</td>\n",
       "    </tr>\n",
       "    <tr>\n",
       "      <th>min</th>\n",
       "      <td>4.000000</td>\n",
       "      <td>64.000000</td>\n",
       "      <td>11499.000000</td>\n",
       "    </tr>\n",
       "    <tr>\n",
       "      <th>25%</th>\n",
       "      <td>4.000000</td>\n",
       "      <td>64.000000</td>\n",
       "      <td>11999.000000</td>\n",
       "    </tr>\n",
       "    <tr>\n",
       "      <th>50%</th>\n",
       "      <td>4.000000</td>\n",
       "      <td>128.000000</td>\n",
       "      <td>12749.000000</td>\n",
       "    </tr>\n",
       "    <tr>\n",
       "      <th>75%</th>\n",
       "      <td>6.000000</td>\n",
       "      <td>128.000000</td>\n",
       "      <td>13499.000000</td>\n",
       "    </tr>\n",
       "    <tr>\n",
       "      <th>max</th>\n",
       "      <td>6.000000</td>\n",
       "      <td>128.000000</td>\n",
       "      <td>22499.000000</td>\n",
       "    </tr>\n",
       "  </tbody>\n",
       "</table>\n",
       "</div>"
      ],
      "text/plain": [
       "             ram         rom        prices\n",
       "count  24.000000   24.000000     24.000000\n",
       "mean    4.833333  104.000000  13558.125000\n",
       "std     1.007220   31.650263   2543.451187\n",
       "min     4.000000   64.000000  11499.000000\n",
       "25%     4.000000   64.000000  11999.000000\n",
       "50%     4.000000  128.000000  12749.000000\n",
       "75%     6.000000  128.000000  13499.000000\n",
       "max     6.000000  128.000000  22499.000000"
      ]
     },
     "execution_count": 104,
     "metadata": {},
     "output_type": "execute_result"
    }
   ],
   "source": [
    "df.describe()"
   ]
  },
  {
   "cell_type": "code",
   "execution_count": 108,
   "metadata": {},
   "outputs": [
    {
     "data": {
      "text/plain": [
       "<AxesSubplot:xlabel='phones', ylabel='prices'>"
      ]
     },
     "execution_count": 108,
     "metadata": {},
     "output_type": "execute_result"
    },
    {
     "data": {
      "image/png": "[encoded data removed]",
      "text/plain": [
       "<Figure size 432x288 with 1 Axes>"
      ]
     },
     "metadata": {
      "needs_background": "light"
     },
     "output_type": "display_data"
    }
   ],
   "source": [
    "sns.histplot(data=df,x='phones',y='prices')"
   ]
  },
  {
   "cell_type": "code",
   "execution_count": 113,
   "metadata": {},
   "outputs": [
    {
     "data": {
      "text/plain": [
       "<AxesSubplot:xlabel='prices', ylabel='phones'>"
      ]
     },
     "execution_count": 113,
     "metadata": {},
     "output_type": "execute_result"
    },
    {
     "data": {
      "image/png": "[encoded data removed]",
      "text/plain": [
       "<Figure size 432x288 with 1 Axes>"
      ]
     },
     "metadata": {
      "needs_background": "light"
     },
     "output_type": "display_data"
    }
   ],
   "source": [
    "sns.scatterplot(data=df,x='prices',y='phones')"
   ]
  },
  {
   "cell_type": "code",
   "execution_count": 115,
   "metadata": {},
   "outputs": [
    {
     "data": {
      "text/plain": [
       "<AxesSubplot:xlabel='prices', ylabel='phones'>"
      ]
     },
     "execution_count": 115,
     "metadata": {},
     "output_type": "execute_result"
    },
    {
     "data": {
      "image/png": "[encoded data removed]",
      "text/plain": [
       "<Figure size 432x288 with 1 Axes>"
      ]
     },
     "metadata": {
      "needs_background": "light"
     },
     "output_type": "display_data"
    }
   ],
   "source": [
    "sns.barplot(data=df,x='prices',y='phones')"
   ]
  },
  {
   "cell_type": "code",
   "execution_count": null,
   "metadata": {},
   "outputs": [],
   "source": []
  }
 ],
 "metadata": {
  "colab": {
   "authorship_tag": "ABX9TyOqZCSjShgvQqzrCZ5P6uM5",
   "include_colab_link": true,
   "provenance": []
  },
  "kernelspec": {
   "display_name": "Python 3 (ipykernel)",
   "language": "python",
   "name": "python3"
  },
  "language_info": {
   "codemirror_mode": {
    "name": "ipython",
    "version": 3
   },
   "file_extension": ".py",
   "mimetype": "text/x-python",
   "name": "python",
   "nbconvert_exporter": "python",
   "pygments_lexer": "ipython3",
   "version": "3.9.7"
  }
 },
 "nbformat": 4,
 "nbformat_minor": 1
}
